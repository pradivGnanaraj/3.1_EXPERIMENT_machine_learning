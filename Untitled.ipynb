{
 "cells": [
  {
   "cell_type": "markdown",
   "id": "867e95f8-566a-4e62-8030-3d55230a8767",
   "metadata": {},
   "source": [
    "## Parametric Model\n",
    "\n",
    "### Regression Problems\n",
    "\n",
    "#### Simple Linear Regression. \n",
    "\n"
   ]
  }
 ],
 "metadata": {
  "kernelspec": {
   "display_name": "Python 3 (ipykernel)",
   "language": "python",
   "name": "python3"
  },
  "language_info": {
   "codemirror_mode": {
    "name": "ipython",
    "version": 3
   },
   "file_extension": ".py",
   "mimetype": "text/x-python",
   "name": "python",
   "nbconvert_exporter": "python",
   "pygments_lexer": "ipython3",
   "version": "3.10.9"
  }
 },
 "nbformat": 4,
 "nbformat_minor": 5
}
